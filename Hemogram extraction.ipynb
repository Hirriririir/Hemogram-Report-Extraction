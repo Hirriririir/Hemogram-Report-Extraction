{
 "cells": [
  {
   "cell_type": "code",
   "execution_count": 2,
   "metadata": {},
   "outputs": [],
   "source": [
    "import pdfplumber\n",
    "import os\n",
    "import glob\n",
    "import pandas as pd\n",
    "import numpy as np\n",
    "import re"
   ]
  },
  {
   "cell_type": "markdown",
   "metadata": {},
   "source": [
    "# Test pdfplumber"
   ]
  },
  {
   "cell_type": "code",
   "execution_count": 2,
   "metadata": {},
   "outputs": [
    {
     "data": {
      "text/plain": [
       "'姓 名: 病 区: 病 历 号:M0XXXX7X 样本编号:1447\\n性 别:女 科 室: 临床诊断:重症肌无 条形码号:223XX03XXX\\n年 龄:73岁 床 号: 力送检医生:XX 标本种类:全血\\n备 注: 检验目的:血常规 收费类别:门诊医保\\n检验项目 结果 参考区间 检验项目 结果 参考区间\\n白细胞计数(WBC) 7.17 3.5-9.5x10^9/L 中性粒细胞绝对值(NEUT#) 4.87 1.8-6.3x10^9/L\\n红细胞计数(RBC) 4.43 3.8-5.1x10^12/L 淋巴细胞绝对值(LYMPH#) 1.72 1.1-3.2x10^9/L\\n血红蛋白(HGB) 134 115-150g/L 单核细胞绝对值(MONO#) 0.48 0.1-0.6x10^9/L\\n红细胞压积(HCT) 40.3 35-45% 嗜酸性粒细胞绝对值(EO#) 0.05 0.02-0.52x10^9/L\\n平均红细胞血红蛋白量(MCH) 30.2 27.0-34.0pg 嗜碱性粒细胞绝对值(BASO#) 0.05 0-0.06x10^9/L\\n平均红细胞体积(MCV) 91.0 82.0-100.0fl 血小板计数(PLT) 166 125-350x10^9/L\\n平均红细胞血红蛋白浓度(MCHC) 333 316-354g/L 中性淋巴比值(NLR) 2.8 0.9-3.1\\n红细胞分布宽度(RDW-SD) 41.6 39.0-52.3fl 血小板淋巴比值(PLR) 96.5 69.5-182.6\\n红细胞分布宽度--变异系数(RDW-CV) 12.6 10.0-15.0%\\n血小板分布宽度(PDW) 13.8 9.0-18.1fl\\n平均血小板体积(MPV) 10.7 9.40-13.50fl\\n大血小板比率(P-LCR) 30.4 19.1-47.0%\\n中性粒细胞%(NEUT%) 67.9 40.0-75.0%\\n淋巴细胞%(LYMPH%) 24.0 20.0-50.0%\\n单核细胞%(MONO%) 6.7 3.0-10.0%\\n嗜酸性粒细胞%(EO%) 0.7 0.4-8.0%\\n嗜碱性粒细胞%(BASO%) 0.7 0.0-1.0%\\n采样时间:2023-07-20 10:45:54 接收时间:2023-07-20 10:52:54 报告时间:2023-07-20 10:57:31 打印时间:2023-07-27 18:01:00\\n本检验结果仅对该标本负责 检验者:XX 审核者:XX\\n数据仅供临床参考。\"↓\"表示低于参考区间,\"↑\"表示高于参考区间'"
      ]
     },
     "execution_count": 2,
     "metadata": {},
     "output_type": "execute_result"
    }
   ],
   "source": [
    "pdf = pdfplumber.open('./Sample_data/甲乙丙.pdf')\n",
    "page = pdf.pages[0]\n",
    "text = page.extract_text()\n",
    "text"
   ]
  },
  {
   "cell_type": "code",
   "execution_count": 3,
   "metadata": {},
   "outputs": [
    {
     "data": {
      "image/png": "[encoded data removed]",
      "text/plain": [
       "<pdfplumber.display.PageImage at 0x22895ddbb10>"
      ]
     },
     "execution_count": 3,
     "metadata": {},
     "output_type": "execute_result"
    }
   ],
   "source": [
    "im = pdf.pages[0].to_image(resolution=100)\n",
    "im.draw_rects(page.extract_words())"
   ]
  },
  {
   "cell_type": "markdown",
   "metadata": {},
   "source": [
    "# Data extraction"
   ]
  },
  {
   "cell_type": "code",
   "execution_count": 3,
   "metadata": {},
   "outputs": [
    {
     "name": "stdout",
     "output_type": "stream",
     "text": [
      "c:\\Users\\cpres\\Documents\\GitHub\\Hemogram_report_extraction\\Sample_data\n"
     ]
    },
    {
     "data": {
      "text/plain": [
       "['c:\\\\Users\\\\cpres\\\\Documents\\\\GitHub\\\\Hemogram_report_extraction\\\\Sample_data\\\\佚名A.pdf',\n",
       " 'c:\\\\Users\\\\cpres\\\\Documents\\\\GitHub\\\\Hemogram_report_extraction\\\\Sample_data\\\\匿名B.pdf',\n",
       " 'c:\\\\Users\\\\cpres\\\\Documents\\\\GitHub\\\\Hemogram_report_extraction\\\\Sample_data\\\\甲乙丙.pdf']"
      ]
     },
     "execution_count": 3,
     "metadata": {},
     "output_type": "execute_result"
    }
   ],
   "source": [
    "root_dir = os.getcwd() \n",
    "# 检验报告文件夹路径\n",
    "base_path = os.path.join(root_dir, 'Sample_data') \n",
    "print(base_path)\n",
    "PDF_files = glob.glob(os.path.join(base_path, '*.pdf'))\n",
    "PDF_files"
   ]
  },
  {
   "cell_type": "code",
   "execution_count": 4,
   "metadata": {},
   "outputs": [
    {
     "data": {
      "text/plain": [
       "[{'Name': '佚名A',\n",
       "  'Collection_date': '2023-09-14',\n",
       "  'File': 'c:\\\\Users\\\\cpres\\\\Documents\\\\GitHub\\\\Hemogram_report_extraction\\\\Sample_data\\\\佚名A.pdf',\n",
       "  'WBC': '6.03',\n",
       "  'RBC': '4.92',\n",
       "  'HGB': '114',\n",
       "  'HCT': '36.9',\n",
       "  'MCH': '23.2',\n",
       "  'MCV': '75.0',\n",
       "  'MCHC': '309',\n",
       "  'RDW_SD': '41.2',\n",
       "  'RDW_CV': '15.1',\n",
       "  'PDW': '10.2',\n",
       "  'MPV': '9.4',\n",
       "  'P_LCR': '20.8',\n",
       "  'NEUT%': '67.7',\n",
       "  'LYMPH%': '23.4',\n",
       "  'MONO%': '7.1',\n",
       "  'EO%': '1.5',\n",
       "  'BASO%': '0.3',\n",
       "  'NEUT#': '4.08',\n",
       "  'LYMPH#': '1.41',\n",
       "  'MONO#': '0.43',\n",
       "  'EO#': '0.09',\n",
       "  'BASO#': '0.02',\n",
       "  'PLT': '257',\n",
       "  'NLR': '2.9',\n",
       "  'PLR': '182.3'},\n",
       " {'Name': '匿名B',\n",
       "  'Collection_date': '2023-07-13',\n",
       "  'File': 'c:\\\\Users\\\\cpres\\\\Documents\\\\GitHub\\\\Hemogram_report_extraction\\\\Sample_data\\\\匿名B.pdf',\n",
       "  'WBC': '4.10',\n",
       "  'RBC': '3.96',\n",
       "  'HGB': '121',\n",
       "  'HCT': '35.9',\n",
       "  'MCH': '30.6',\n",
       "  'MCV': '90.7',\n",
       "  'MCHC': '337',\n",
       "  'RDW_SD': '41.8',\n",
       "  'RDW_CV': '12.6',\n",
       "  'PDW': '11.0',\n",
       "  'MPV': '9.7',\n",
       "  'P_LCR': '21.9',\n",
       "  'NEUT%': '51.1',\n",
       "  'LYMPH%': '39.8',\n",
       "  'MONO%': '7.1',\n",
       "  'EO%': '1.5',\n",
       "  'BASO%': '0.5',\n",
       "  'NEUT#': '2.10',\n",
       "  'LYMPH#': '1.63',\n",
       "  'MONO#': '0.29',\n",
       "  'EO#': '0.06',\n",
       "  'BASO#': '0.02',\n",
       "  'PLT': '185',\n",
       "  'NLR': '1.3',\n",
       "  'PLR': '113.5'},\n",
       " {'Name': '甲乙丙',\n",
       "  'Collection_date': '2023-07-20',\n",
       "  'File': 'c:\\\\Users\\\\cpres\\\\Documents\\\\GitHub\\\\Hemogram_report_extraction\\\\Sample_data\\\\甲乙丙.pdf',\n",
       "  'WBC': '7.17',\n",
       "  'RBC': '4.43',\n",
       "  'HGB': '134',\n",
       "  'HCT': '40.3',\n",
       "  'MCH': '30.2',\n",
       "  'MCV': '91.0',\n",
       "  'MCHC': '333',\n",
       "  'RDW_SD': '41.6',\n",
       "  'RDW_CV': '12.6',\n",
       "  'PDW': '13.8',\n",
       "  'MPV': '10.7',\n",
       "  'P_LCR': '30.4',\n",
       "  'NEUT%': '67.9',\n",
       "  'LYMPH%': '24.0',\n",
       "  'MONO%': '6.7',\n",
       "  'EO%': '0.7',\n",
       "  'BASO%': '0.7',\n",
       "  'NEUT#': '4.87',\n",
       "  'LYMPH#': '1.72',\n",
       "  'MONO#': '0.48',\n",
       "  'EO#': '0.05',\n",
       "  'BASO#': '0.05',\n",
       "  'PLT': '166',\n",
       "  'NLR': '2.8',\n",
       "  'PLR': '96.5'}]"
      ]
     },
     "execution_count": 4,
     "metadata": {},
     "output_type": "execute_result"
    }
   ],
   "source": [
    "PDF_dicts = []\n",
    "\n",
    "for PDF_file in PDF_files:\n",
    "    Name = re.search(r'[^\\\\]+(?=\\.pdf)', PDF_file).group() \n",
    "    \n",
    "    # 提取PDF信息\n",
    "    pdf = pdfplumber.open(PDF_file)\n",
    "    page = pdf.pages[0]\n",
    "    text = page.extract_text()\n",
    "\n",
    "    Collection_date = re.findall(r'采样时间:(\\d+-\\d+-\\d+)', text)[0]\n",
    "    \n",
    "    WBC = re.findall(r'白细胞计数\\(WBC\\) (\\d+\\.\\d+)', text)[0]\n",
    "    RBC = re.findall(r'红细胞计数\\(RBC\\) (\\d+\\.\\d+)', text)[0]\n",
    "    HGB = re.findall(r'血红蛋白\\(HGB\\) (\\d+)', text)[0]\n",
    "    HCT = re.findall(r'红细胞压积\\(HCT\\) (\\d+\\.\\d+)', text)[0]\n",
    "    MCH = re.findall(r'平均红细胞血红蛋白量\\(MCH\\) (\\d+\\.\\d+)', text)[0]\n",
    "    MCV = re.findall(r'平均红细胞体积\\(MCV\\) (\\d+\\.\\d+)', text)[0]\n",
    "    MCHC = re.findall(r'平均红细胞血红蛋白浓度\\(MCHC\\) (\\d+)', text)[0]\n",
    "    RDW_SD = re.findall(r'红细胞分布宽度\\(RDW-SD\\) (\\d+\\.\\d+)', text)[0]\n",
    "    RDW_CV = re.findall(r'红细胞分布宽度--变异系数\\(RDW-CV\\) (\\d+\\.\\d+)', text)[0]\n",
    "    PDW = re.findall(r'血小板分布宽度\\(PDW\\) (\\d+\\.\\d+)', text)[0]\n",
    "    MPV = re.findall(r'平均血小板体积\\(MPV\\) (\\d+\\.\\d+)', text)[0]\n",
    "    P_LCR = re.findall(r'大血小板比率\\(P-LCR\\) (\\d+\\.\\d+)', text)[0]\n",
    "    NEUT_percent = re.findall(r'中性粒细胞%\\(NEUT%\\) (\\d+\\.\\d+)', text)[0]\n",
    "    LYMPH_percent = re.findall(r'淋巴细胞%\\(LYMPH%\\) (\\d+\\.\\d+)', text)[0]\n",
    "    MONO_percent = re.findall(r'单核细胞%\\(MONO%\\) (\\d+\\.\\d+)', text)[0]\n",
    "    EO_percent = re.findall(r'嗜酸性粒细胞%\\(EO%\\) (\\d+\\.\\d+)', text)[0]\n",
    "    BASO_percent = re.findall(r'嗜碱性粒细胞%\\(BASO%\\) (\\d+\\.\\d+)', text)[0]\n",
    "    NEUT_absolute = re.findall(r'中性粒细胞绝对值\\(NEUT#\\) (\\d+\\.\\d+)', text)[0]\n",
    "    LYMPH_absolute = re.findall(r'淋巴细胞绝对值\\(LYMPH#\\) (\\d+\\.\\d+)', text)[0]\n",
    "    MONO_absolute = re.findall(r'单核细胞绝对值\\(MONO#\\) (\\d+\\.\\d+)', text)[0]\n",
    "    EO_absolute = re.findall(r'嗜酸性粒细胞绝对值\\(EO#\\) (\\d+\\.\\d+)', text)[0]\n",
    "    BASO_absolute = re.findall(r'嗜碱性粒细胞绝对值\\(BASO#\\) (\\d+\\.\\d+)', text)[0]\n",
    "    PLT = re.findall(r'血小板计数\\(PLT\\) (\\d+)', text)[0]\n",
    "    NLR = re.findall(r'中性淋巴比值\\(NLR\\) (\\d+\\.\\d+)', text)[0]\n",
    "    PLR = re.findall(r'血小板淋巴比值\\(PLR\\) (\\d+\\.\\d+)', text)[0]\n",
    "    \n",
    "    \n",
    "    PDF_dicts.append({'Name': Name, 'Collection_date': Collection_date, 'File': PDF_file, 'WBC': WBC, 'RBC': RBC, 'HGB': HGB, 'HCT': HCT, 'MCH': MCH, 'MCV': MCV, 'MCHC': MCHC, 'RDW_SD': RDW_SD, 'RDW_CV': RDW_CV, 'PDW': PDW, 'MPV': MPV, 'P_LCR': P_LCR, 'NEUT%': NEUT_percent, 'LYMPH%': LYMPH_percent, 'MONO%': MONO_percent, 'EO%': EO_percent, 'BASO%': BASO_percent, 'NEUT#': NEUT_absolute, 'LYMPH#': LYMPH_absolute, 'MONO#': MONO_absolute, 'EO#': EO_absolute, 'BASO#': BASO_absolute, 'PLT': PLT, 'NLR': NLR, 'PLR': PLR})\n",
    "\n",
    "PDF_dicts"
   ]
  },
  {
   "cell_type": "code",
   "execution_count": 6,
   "metadata": {},
   "outputs": [
    {
     "data": {
      "text/html": [
       "<div>\n",
       "<style scoped>\n",
       "    .dataframe tbody tr th:only-of-type {\n",
       "        vertical-align: middle;\n",
       "    }\n",
       "\n",
       "    .dataframe tbody tr th {\n",
       "        vertical-align: top;\n",
       "    }\n",
       "\n",
       "    .dataframe thead th {\n",
       "        text-align: right;\n",
       "    }\n",
       "</style>\n",
       "<table border=\"1\" class=\"dataframe\">\n",
       "  <thead>\n",
       "    <tr style=\"text-align: right;\">\n",
       "      <th></th>\n",
       "      <th>Name</th>\n",
       "      <th>Collection_date</th>\n",
       "      <th>File</th>\n",
       "      <th>WBC</th>\n",
       "      <th>RBC</th>\n",
       "      <th>HGB</th>\n",
       "      <th>HCT</th>\n",
       "      <th>MCH</th>\n",
       "      <th>MCV</th>\n",
       "      <th>MCHC</th>\n",
       "      <th>...</th>\n",
       "      <th>EO%</th>\n",
       "      <th>BASO%</th>\n",
       "      <th>NEUT#</th>\n",
       "      <th>LYMPH#</th>\n",
       "      <th>MONO#</th>\n",
       "      <th>EO#</th>\n",
       "      <th>BASO#</th>\n",
       "      <th>PLT</th>\n",
       "      <th>NLR</th>\n",
       "      <th>PLR</th>\n",
       "    </tr>\n",
       "  </thead>\n",
       "  <tbody>\n",
       "    <tr>\n",
       "      <th>0</th>\n",
       "      <td>佚名A</td>\n",
       "      <td>2023-09-14</td>\n",
       "      <td>c:\\Users\\cpres\\Documents\\GitHub\\Hemogram_repor...</td>\n",
       "      <td>6.03</td>\n",
       "      <td>4.92</td>\n",
       "      <td>114</td>\n",
       "      <td>36.9</td>\n",
       "      <td>23.2</td>\n",
       "      <td>75.0</td>\n",
       "      <td>309</td>\n",
       "      <td>...</td>\n",
       "      <td>1.5</td>\n",
       "      <td>0.3</td>\n",
       "      <td>4.08</td>\n",
       "      <td>1.41</td>\n",
       "      <td>0.43</td>\n",
       "      <td>0.09</td>\n",
       "      <td>0.02</td>\n",
       "      <td>257</td>\n",
       "      <td>2.9</td>\n",
       "      <td>182.3</td>\n",
       "    </tr>\n",
       "    <tr>\n",
       "      <th>1</th>\n",
       "      <td>匿名B</td>\n",
       "      <td>2023-07-13</td>\n",
       "      <td>c:\\Users\\cpres\\Documents\\GitHub\\Hemogram_repor...</td>\n",
       "      <td>4.10</td>\n",
       "      <td>3.96</td>\n",
       "      <td>121</td>\n",
       "      <td>35.9</td>\n",
       "      <td>30.6</td>\n",
       "      <td>90.7</td>\n",
       "      <td>337</td>\n",
       "      <td>...</td>\n",
       "      <td>1.5</td>\n",
       "      <td>0.5</td>\n",
       "      <td>2.10</td>\n",
       "      <td>1.63</td>\n",
       "      <td>0.29</td>\n",
       "      <td>0.06</td>\n",
       "      <td>0.02</td>\n",
       "      <td>185</td>\n",
       "      <td>1.3</td>\n",
       "      <td>113.5</td>\n",
       "    </tr>\n",
       "    <tr>\n",
       "      <th>2</th>\n",
       "      <td>甲乙丙</td>\n",
       "      <td>2023-07-20</td>\n",
       "      <td>c:\\Users\\cpres\\Documents\\GitHub\\Hemogram_repor...</td>\n",
       "      <td>7.17</td>\n",
       "      <td>4.43</td>\n",
       "      <td>134</td>\n",
       "      <td>40.3</td>\n",
       "      <td>30.2</td>\n",
       "      <td>91.0</td>\n",
       "      <td>333</td>\n",
       "      <td>...</td>\n",
       "      <td>0.7</td>\n",
       "      <td>0.7</td>\n",
       "      <td>4.87</td>\n",
       "      <td>1.72</td>\n",
       "      <td>0.48</td>\n",
       "      <td>0.05</td>\n",
       "      <td>0.05</td>\n",
       "      <td>166</td>\n",
       "      <td>2.8</td>\n",
       "      <td>96.5</td>\n",
       "    </tr>\n",
       "  </tbody>\n",
       "</table>\n",
       "<p>3 rows × 28 columns</p>\n",
       "</div>"
      ],
      "text/plain": [
       "  Name Collection_date                                               File  \\\n",
       "0  佚名A      2023-09-14  c:\\Users\\cpres\\Documents\\GitHub\\Hemogram_repor...   \n",
       "1  匿名B      2023-07-13  c:\\Users\\cpres\\Documents\\GitHub\\Hemogram_repor...   \n",
       "2  甲乙丙      2023-07-20  c:\\Users\\cpres\\Documents\\GitHub\\Hemogram_repor...   \n",
       "\n",
       "    WBC   RBC  HGB   HCT   MCH   MCV MCHC  ...  EO% BASO% NEUT# LYMPH# MONO#  \\\n",
       "0  6.03  4.92  114  36.9  23.2  75.0  309  ...  1.5   0.3  4.08   1.41  0.43   \n",
       "1  4.10  3.96  121  35.9  30.6  90.7  337  ...  1.5   0.5  2.10   1.63  0.29   \n",
       "2  7.17  4.43  134  40.3  30.2  91.0  333  ...  0.7   0.7  4.87   1.72  0.48   \n",
       "\n",
       "    EO# BASO#  PLT  NLR    PLR  \n",
       "0  0.09  0.02  257  2.9  182.3  \n",
       "1  0.06  0.02  185  1.3  113.5  \n",
       "2  0.05  0.05  166  2.8   96.5  \n",
       "\n",
       "[3 rows x 28 columns]"
      ]
     },
     "execution_count": 6,
     "metadata": {},
     "output_type": "execute_result"
    }
   ],
   "source": [
    "Results = pd.DataFrame(PDF_dicts)#.to_excel('Sample_results.xlsx', encoding='utf_8_sig', index=False)\n",
    "Results"
   ]
  }
 ],
 "metadata": {
  "kernelspec": {
   "display_name": "base",
   "language": "python",
   "name": "python3"
  },
  "language_info": {
   "codemirror_mode": {
    "name": "ipython",
    "version": 3
   },
   "file_extension": ".py",
   "mimetype": "text/x-python",
   "name": "python",
   "nbconvert_exporter": "python",
   "pygments_lexer": "ipython3",
   "version": "3.11.3"
  },
  "orig_nbformat": 4
 },
 "nbformat": 4,
 "nbformat_minor": 2
}
